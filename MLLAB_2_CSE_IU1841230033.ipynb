{
  "nbformat": 4,
  "nbformat_minor": 0,
  "metadata": {
    "colab": {
      "name": "MLLAB_2_CSE_IU1841230033",
      "provenance": [],
      "collapsed_sections": [],
      "authorship_tag": "ABX9TyNsQcriFfnrbMoDtnIzS7ay",
      "include_colab_link": true
    },
    "kernelspec": {
      "name": "python3",
      "display_name": "Python 3"
    },
    "language_info": {
      "name": "python"
    }
  },
  "cells": [
    {
      "cell_type": "markdown",
      "metadata": {
        "id": "view-in-github",
        "colab_type": "text"
      },
      "source": [
        "<a href=\"https://colab.research.google.com/github/JM3318CSIITE/IU1841230033-MLLAB-WORK/blob/main/MLLAB_2_CSE_IU1841230033.ipynb\" target=\"_parent\"><img src=\"https://colab.research.google.com/assets/colab-badge.svg\" alt=\"Open In Colab\"/></a>"
      ]
    },
    {
      "cell_type": "markdown",
      "metadata": {
        "id": "8QSWc_NvKc41"
      },
      "source": [
        "# **ML LAB WORK**"
      ]
    },
    {
      "cell_type": "code",
      "metadata": {
        "colab": {
          "base_uri": "https://localhost:8080/"
        },
        "id": "TALFErhoGBnM",
        "outputId": "8821f0ce-df48-4953-cc2d-c65887d39903"
      },
      "source": [
        "# 1) Write a Python program to append a new item to the end of the array.\n",
        "# Original array: array('i', [1, 3, 5, 7, 9])\n",
        "# Append 11 at the end of the array:\n",
        "print(\"CSE_IU1841230033_Jaysheeel_Mistry\")\n",
        "from array import *\n",
        "\n",
        "List = array('i', [1, 3, 5, 7, 9])\n",
        "print(\"Actual array: \"+str(List))\n",
        "print(\"Append 11 at the end of the array:\")\n",
        "\n",
        "List.append(11)\n",
        "print(\"New array: \"+str(List))"
      ],
      "execution_count": 11,
      "outputs": [
        {
          "output_type": "stream",
          "text": [
            "CSE_IU1841230033_Jaysheeel_Mistry\n",
            "Actual array: array('i', [1, 3, 5, 7, 9])\n",
            "Append 11 at the end of the array:\n",
            "New array: array('i', [1, 3, 5, 7, 9, 11])\n"
          ],
          "name": "stdout"
        }
      ]
    },
    {
      "cell_type": "code",
      "metadata": {
        "colab": {
          "base_uri": "https://localhost:8080/"
        },
        "id": "axF6GSPOI8K9",
        "outputId": "f8a7c557-6fb2-464e-cd64-7c974ae78cd4"
      },
      "source": [
        "# 2) Write a Python program to reverse the order of the items in the array. \n",
        "# Original array: array('i', [1, 3, 5, 3, 7, 1, 9, 3])\n",
        "# Reverse the order of the items:\n",
        "# array('i', [3, 9, 1, 7, 3, 5, 3, 1])\n",
        "print(\"CSE_IU1841230033_Jaysheeel_Mistry\")\n",
        "from array import *\n",
        "List = array('i', [1, 3, 5, 3, 7, 1, 9, 3])\n",
        "print(\"Original array: \"+str(List))\n",
        "List.reverse()\n",
        "print(\"Reverse the order of the items:\")\n",
        "print(str(List))"
      ],
      "execution_count": 12,
      "outputs": [
        {
          "output_type": "stream",
          "text": [
            "CSE_IU1841230033_Jaysheeel_Mistry\n",
            "Original array: array('i', [1, 3, 5, 3, 7, 1, 9, 3])\n",
            "Reverse the order of the items:\n",
            "array('i', [3, 9, 1, 7, 3, 5, 3, 1])\n"
          ],
          "name": "stdout"
        }
      ]
    },
    {
      "cell_type": "code",
      "metadata": {
        "colab": {
          "base_uri": "https://localhost:8080/"
        },
        "id": "AHPbgD-sJSvG",
        "outputId": "9dc6caea-5d1b-4c7e-ea4c-10200794da98"
      },
      "source": [
        "# 3 )Write a Python program to get the number of occurrences of a specified element in an array. \n",
        "# Sample Output:\n",
        "# Original array: array('i', [1, 3, 5, 3, 7, 9, 3])\n",
        "# Number of occurrences of the number 3 in the said array: 3\n",
        "print(\"CSE_IU1841230033_Jaysheeel_Mistry\")\n",
        "from array import *\n",
        "List = array('i', [1, 3, 5, 3, 7, 9, 3])\n",
        "print(\"Original array: \"+str(List))\n",
        "print(\"Number of occurrences of the number 3 in the said array: \"+str(List.count(3)))\n"
      ],
      "execution_count": 13,
      "outputs": [
        {
          "output_type": "stream",
          "text": [
            "CSE_IU1841230033_Jaysheeel_Mistry\n",
            "Original array: array('i', [1, 3, 5, 3, 7, 9, 3])\n",
            "Number of occurrences of the number 3 in the said array: 3\n"
          ],
          "name": "stdout"
        }
      ]
    },
    {
      "cell_type": "markdown",
      "metadata": {
        "id": "Aj87Tb_PKWe9"
      },
      "source": [
        "ML LAB EXTRA WORK"
      ]
    },
    {
      "cell_type": "code",
      "metadata": {
        "colab": {
          "base_uri": "https://localhost:8080/"
        },
        "id": "UUGWJqzHBU9U",
        "outputId": "d6b1ffd0-9d2e-49c9-f2a3-98c06c9eb635"
      },
      "source": [
        "print(\"CSE_IU1841230033_Jaysheeel_Mistry\")\n",
        "import array as arr\n",
        "#type Float\n",
        "a=arr.array('d',[1 , 2 ,31,26,78])\n",
        "print(\"type Integer : \",a)\n",
        "#type Float\n",
        "a=arr.array('d',[1.1 , 2.1 ,3.1,2.6,7.8])\n",
        "print(\"type Float : \",a)"
      ],
      "execution_count": 16,
      "outputs": [
        {
          "output_type": "stream",
          "text": [
            "CSE_IU1841230033_Jaysheeel_Mistry\n",
            "type Integer :  array('d', [1.0, 2.0, 31.0, 26.0, 78.0])\n",
            "type Float :  array('d', [1.1, 2.1, 3.1, 2.6, 7.8])\n"
          ],
          "name": "stdout"
        }
      ]
    },
    {
      "cell_type": "code",
      "metadata": {
        "colab": {
          "base_uri": "https://localhost:8080/"
        },
        "id": "T8WiubNRD9ns",
        "outputId": "be5b0770-dda9-47cb-8856-03727746075d"
      },
      "source": [
        "print(\"CSE_IU1841230033_Jaysheeel_Mistry\")\n",
        "a=arr.array('d',[1 , 2 ,31,26,78])\n",
        "print(\"1st Element of Array :\", a[0])\n",
        "print(\"2nd Element of Array :\", a[1])\n",
        "print(\"3rd Element of Array :\", a[2])\n",
        "print(\"4th Element of Array :\", a[3])\n",
        "print(\"5th Element of Array :\", a[4])\n",
        "print(\"Last Element of Array :\", a[-1])"
      ],
      "execution_count": 15,
      "outputs": [
        {
          "output_type": "stream",
          "text": [
            "CSE_IU1841230033_Jaysheeel_Mistry\n",
            "1st Element of Array : 1.0\n",
            "2nd Element of Array : 2.0\n",
            "3rd Element of Array : 31.0\n",
            "4th Element of Array : 26.0\n",
            "5th Element of Array : 78.0\n",
            "Last Element of Array : 78.0\n"
          ],
          "name": "stdout"
        }
      ]
    },
    {
      "cell_type": "code",
      "metadata": {
        "colab": {
          "base_uri": "https://localhost:8080/"
        },
        "id": "LlkERpPOEbIs",
        "outputId": "356a3415-1c05-441a-8960-32eb42d43f2f"
      },
      "source": [
        "print(\"CSE_IU1841230033_Jaysheeel_Mistry\")\n",
        "import array as arr\n",
        "#Slicing Of Array\n",
        "list=arr.array('i',[1, 2, 55, 5, 88, 31, 26, 78])\n",
        "print(\"3 to 5 Element\",list[2:5])\n",
        "print(list[2:-5])\n",
        "print(list[5:])\n",
        "print(list[:])"
      ],
      "execution_count": 17,
      "outputs": [
        {
          "output_type": "stream",
          "text": [
            "CSE_IU1841230033_Jaysheeel_Mistry\n",
            "3 to 5 Element array('i', [55, 5, 88])\n",
            "array('i', [55])\n",
            "array('i', [31, 26, 78])\n",
            "array('i', [1, 2, 55, 5, 88, 31, 26, 78])\n"
          ],
          "name": "stdout"
        }
      ]
    },
    {
      "cell_type": "code",
      "metadata": {
        "colab": {
          "base_uri": "https://localhost:8080/"
        },
        "id": "CrXwC2viFIl8",
        "outputId": "ef2fb911-87d7-4fc7-dbea-3cdd9419567b"
      },
      "source": [
        "print(\"CSE_IU1841230033_Jaysheeel_Mistry\")\n",
        "import array as arr\n",
        "#Adding append and Extends funcion and Change Element\n",
        "list=arr.array('i',[1, 2, 55, 5, 88, 31, 26, 78])\n",
        "list[0]= 0\n",
        "print(\"1st element changed\",list)\n",
        "#change Range of element\n",
        "list[1:4] = arr.array('i',[31, 26, 78])\n",
        "print(\" Element changed in list\",list)\n"
      ],
      "execution_count": 18,
      "outputs": [
        {
          "output_type": "stream",
          "text": [
            "CSE_IU1841230033_Jaysheeel_Mistry\n",
            "1st element changed array('i', [0, 2, 55, 5, 88, 31, 26, 78])\n",
            " Element changed in list array('i', [0, 31, 26, 78, 88, 31, 26, 78])\n"
          ],
          "name": "stdout"
        }
      ]
    }
  ]
}