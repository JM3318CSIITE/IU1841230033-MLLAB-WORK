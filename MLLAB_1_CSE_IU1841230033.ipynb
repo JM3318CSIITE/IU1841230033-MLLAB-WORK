{
  "nbformat": 4,
  "nbformat_minor": 0,
  "metadata": {
    "colab": {
      "name": "MLLAB_CSE_IU1841230033",
      "provenance": [],
      "collapsed_sections": [],
      "authorship_tag": "ABX9TyNDXiIyOqG7imHx7DwU0CoR",
      "include_colab_link": true
    },
    "kernelspec": {
      "name": "python3",
      "display_name": "Python 3"
    },
    "language_info": {
      "name": "python"
    }
  },
  "cells": [
    {
      "cell_type": "markdown",
      "metadata": {
        "id": "view-in-github",
        "colab_type": "text"
      },
      "source": [
        "<a href=\"https://colab.research.google.com/github/JM3318CSIITE/IU1841230033-MLLAB-WORK/blob/main/MLLAB_1_CSE_IU1841230033.ipynb\" target=\"_parent\"><img src=\"https://colab.research.google.com/assets/colab-badge.svg\" alt=\"Open In Colab\"/></a>"
      ]
    },
    {
      "cell_type": "code",
      "metadata": {
        "colab": {
          "base_uri": "https://localhost:8080/"
        },
        "id": "axfKuYwdJTlx",
        "outputId": "9317a4db-2894-4877-f166-25c1573eaff2"
      },
      "source": [
        "#1. Program make a simple calculator\n",
        "\n",
        "print(\"CSE_IU1841230033_Jaysheeel_Mistry\")\n",
        "# Addition\n",
        "def add(x, y):\n",
        "    return x + y\n",
        "\n",
        "# Subtraction\n",
        "def subtract(x, y):\n",
        "    return x - y\n",
        "\n",
        "# Multipication\n",
        "def multiply(x, y):\n",
        "    return x * y\n",
        "\n",
        "# Division\n",
        "def divide(x, y):\n",
        "    return x / y\n",
        "\n",
        "\n",
        "print(\"Select operation.\")\n",
        "print(\"1.Add\")\n",
        "print(\"2.Subtract\")\n",
        "print(\"3.Multiply\")\n",
        "print(\"4.Divide\")\n",
        "\n",
        "while True:\n",
        "    choice = input(\"Enter choice(1,2,3,4): \")\n",
        "    if choice in ('1', '2', '3', '4'):\n",
        "        num1 = int(input(\"Enter first number: \"))\n",
        "        num2 = int(input(\"Enter second number: \"))\n",
        "\n",
        "        if choice == '1':\n",
        "            print(\"Addition is\",num1, \"+\", num2, \"=\", add(num1, num2))\n",
        "\n",
        "        elif choice == '2':\n",
        "            print(\"Subtraction is\",num1, \"-\", num2, \"=\", subtract(num1, num2))\n",
        "\n",
        "        elif choice == '3':\n",
        "            print(\"Multipication is\",num1, \"*\", num2, \"=\", multiply(num1, num2))\n",
        "\n",
        "        elif choice == '4':\n",
        "            print(\"Division1 is\",num1, \"/\", num2, \"=\", divide(num1, num2))\n",
        "        break\n",
        "    else:\n",
        "        print(\"Not valid\")\n"
      ],
      "execution_count": null,
      "outputs": [
        {
          "output_type": "stream",
          "text": [
            "CSE_IU1841230033_Jaysheeel_Mistry\n",
            "Select operation.\n",
            "1.Add\n",
            "2.Subtract\n",
            "3.Multiply\n",
            "4.Divide\n",
            "Enter choice(1,2,3,4): 2\n",
            "Enter first number: 12\n",
            "Enter second number: 2\n",
            "Subtraction is 12 - 2 = 10\n"
          ],
          "name": "stdout"
        }
      ]
    },
    {
      "cell_type": "code",
      "metadata": {
        "colab": {
          "base_uri": "https://localhost:8080/"
        },
        "id": "6HzC-ItIKmgB",
        "outputId": "3b95419a-9e60-407e-809b-4dfc76eccf9e"
      },
      "source": [
        "# 2. maximum of two numbers \n",
        "print(\"CSE_IU1841230033_Jaysheeel_Mistry\")\n",
        "def maximum(a, b):     \n",
        "    if a >= b:\n",
        "        return a\n",
        "    else:\n",
        "        return b\n",
        "      \n",
        "# Driver code\n",
        "a = int(input(\"Enter first number: \"))\n",
        "b = int(input(\"Enter Second number: \"))\n",
        "print(\"Max. no. is\",maximum(a, b))"
      ],
      "execution_count": null,
      "outputs": [
        {
          "output_type": "stream",
          "text": [
            "Enter first number: 12\n",
            "Enter Second number: 4\n",
            "12.0\n"
          ],
          "name": "stdout"
        }
      ]
    },
    {
      "cell_type": "code",
      "metadata": {
        "colab": {
          "base_uri": "https://localhost:8080/"
        },
        "id": "e-4RYWcmMlaS",
        "outputId": "75781f7c-098b-4fce-af6e-0c5c3ea22e78"
      },
      "source": [
        "#3.  factorial of given number\n",
        "print(\"CSE_IU1841230033_Jaysheeel_Mistry\")\n",
        "def factorial(n):\n",
        "    if n < 0:\n",
        "        return 0\n",
        "    elif n == 0 or n == 1:\n",
        "        return 1\n",
        "    else:\n",
        "        fact = 1\n",
        "        while(n > 1):\n",
        "            fact *= n\n",
        "            n -= 1\n",
        "        return fact\n",
        " \n",
        "# Driver Code\n",
        "num = int(input(\"Enter the number: \"))\n",
        "print(\"Factorial of\",num,\"is\",\n",
        "factorial(num))"
      ],
      "execution_count": null,
      "outputs": [
        {
          "output_type": "stream",
          "text": [
            "CSE_IU1841230033_Jaysheeel_Mistry\n",
            "Enter the number: 5\n",
            "Factorial of 5 is 120\n"
          ],
          "name": "stdout"
        }
      ]
    },
    {
      "cell_type": "code",
      "metadata": {
        "colab": {
          "base_uri": "https://localhost:8080/",
          "height": 88
        },
        "id": "klSJRor_OpcR",
        "outputId": "300e4ae2-2469-4329-fbb4-0d4cbeca2f3d"
      },
      "source": [
        "#4. Python program to check whether a number is Prime or not\n",
        "print(\"CSE_IU1841230033_Jaysheeel_Mistry\")\n",
        "def prime(number):\n",
        "  for i in range (2,number):\n",
        "    if number % i == 0 and number != i :\n",
        "      return \"NP\"\n",
        "    else:\n",
        "      return \"P\"\n",
        "#using List\n",
        "L=[3,4,6,9,11]\n",
        "print(L,list(map(prime,L)))\n",
        "#Using User input\n",
        "num = int(input(\"Enter the Number : \"))\n",
        "prime(num)"
      ],
      "execution_count": null,
      "outputs": [
        {
          "output_type": "stream",
          "text": [
            "CSE_IU1841230033_Jaysheeel_Mistry\n",
            "[3, 4, 6, 9, 11] ['P', 'NP', 'NP', 'P', 'P']\n",
            "Enter the Number : 5\n"
          ],
          "name": "stdout"
        },
        {
          "output_type": "execute_result",
          "data": {
            "application/vnd.google.colaboratory.intrinsic+json": {
              "type": "string"
            },
            "text/plain": [
              "'P'"
            ]
          },
          "metadata": {
            "tags": []
          },
          "execution_count": 21
        }
      ]
    },
    {
      "cell_type": "code",
      "metadata": {
        "colab": {
          "base_uri": "https://localhost:8080/"
        },
        "id": "DIBYH40lQaRR",
        "outputId": "040aba16-7933-4c77-c732-cd88e5ee08b7"
      },
      "source": [
        "#5. Print Fibonacci series\n",
        "print(\"CSE_IU1841230033_Jaysheeel_Mistry\")\n",
        "def FibRecursion(n):\n",
        "  if n <= 1:\n",
        "    return n\n",
        "  else:\n",
        "    return (FibRecursion(n - 1) + FibRecursion(n - 2))\n",
        "\n",
        "nterms = int(input(\"Enter the terms? \"))\n",
        "\n",
        "if nterms <= 0: \n",
        "  print(\"Please enter a positive integer\")\n",
        "else:\n",
        "  print(\"Fibonacci sequence:\")\n",
        "for i in range(nterms):\n",
        "  print(FibRecursion(i))"
      ],
      "execution_count": null,
      "outputs": [
        {
          "output_type": "stream",
          "text": [
            "CSE_IU1841230033_Jaysheeel_Mistry\n",
            "Enter the terms? 7\n",
            "Fibonacci sequence:\n",
            "0\n",
            "1\n",
            "1\n",
            "2\n",
            "3\n",
            "5\n",
            "8\n"
          ],
          "name": "stdout"
        }
      ]
    },
    {
      "cell_type": "code",
      "metadata": {
        "colab": {
          "base_uri": "https://localhost:8080/"
        },
        "id": "W1nyKy7iRNBA",
        "outputId": "ad835694-a652-4acb-91d1-f9c3ec653e93"
      },
      "source": [
        "#6. Find whether the given number is Odd or even\n",
        "print(\"CSE_IU1841230033_Jaysheeel_Mistry\")\n",
        "x=10\n",
        "# this for user input ...x=int(input(\"NO is \"))\n",
        "if x%2==0:\n",
        "  print(x,\"is Even\")\n",
        "else:\n",
        "  print(x,\"is Odd\")"
      ],
      "execution_count": null,
      "outputs": [
        {
          "output_type": "stream",
          "text": [
            "CSE_IU1841230033_Jaysheeel_Mistry\n",
            "10 is Even\n"
          ],
          "name": "stdout"
        }
      ]
    },
    {
      "cell_type": "code",
      "metadata": {
        "colab": {
          "base_uri": "https://localhost:8080/"
        },
        "id": "I-ASF-4dRrDA",
        "outputId": "bc2ea4c3-1f35-4c7f-93ea-9fbc7b15da68"
      },
      "source": [
        "#7. Find out the Area of the Circle.\n",
        "print(\"CSE_IU1841230033_Jaysheeel_Mistry\")\n",
        "PI = 3.14\n",
        "radius = float(input(\"Enter the radius of a circle: \"))\n",
        "area = PI * radius * radius\n",
        "circumference = 2 * PI * radius\n",
        "\n",
        "print(\" Area of a Circle = \" ,area)\n",
        "print(\" Circumference of a Circle = \" ,circumference)"
      ],
      "execution_count": null,
      "outputs": [
        {
          "output_type": "stream",
          "text": [
            "CSE_IU1841230033_Jaysheeel_Mistry\n",
            "Enter the radius of a circle: 5\n",
            " Area of a Circle =  78.5\n",
            " Circumference of a Circle =  31.400000000000002\n"
          ],
          "name": "stdout"
        }
      ]
    }
  ]
}